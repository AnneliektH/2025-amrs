{
 "cells": [
  {
   "cell_type": "markdown",
   "metadata": {},
   "source": [
    "#### Can we find AMRs in newly generated MAGs?\n",
    "- How many\n",
    "- What is most prevalent?\n",
    "- Are these common in metaGs?"
   ]
  },
  {
   "cell_type": "code",
   "execution_count": null,
   "metadata": {
    "vscode": {
     "languageId": "shellscript"
    }
   },
   "outputs": [],
   "source": [
    "# running RGI on the raw reads (in snakefile)\n",
    "# Think I need to load the db files in the folder where snakefile is\n",
    "# Can probs do it in snakefile (too lazy rn)\n",
    "# load the database and specify that it needs a local copy in current folder\n",
    "rgi load --card_json /home/amhorst/databases/CARD/card.json --local\n",
    "rgi card_annotation -i /home/amhorst/databases/CARD/card.json > card_annotation.log\n",
    "\n",
    "# load the json file, and specify where the card db is. \n",
    "rgi load -i /home/amhorst/databases/CARD/card.json --card_annotation card_database_v3.3.0.fasta --local"
   ]
  },
  {
   "cell_type": "code",
   "execution_count": null,
   "metadata": {
    "vscode": {
     "languageId": "shellscript"
    }
   },
   "outputs": [],
   "source": [
    "# how to run RGI on genomes. \n",
    "srun --account=ctbrowngrp -p bmh -J rgi -t 4:00:00 -c 30 --mem=50gb --pty bash\n",
    "\n",
    "# snakemake\n",
    "snakemake -s rgi_mags.smk --use-conda --resources mem_mb=50000 --rerun-triggers mtime \\\n",
    "-c 30 --rerun-incomplete -k -n\n",
    "\n",
    "# one\n",
    "rgi main \\\n",
    "-i /group/ctbrowngrp2/scratch/annie/2024-pigparadigm/results/MAGs/genomes/AtH2023_SRR17241691_MAG13.fasta \\\n",
    "-o AtH2023_SRR17241691_MAG13 -t contig -a DIAMOND -n 12 --clean --keep"
   ]
  },
  {
   "cell_type": "code",
   "execution_count": null,
   "metadata": {
    "vscode": {
     "languageId": "shellscript"
    }
   },
   "outputs": [],
   "source": [
    "# when RGI ran on everything: Use csvtk to concatenate all outputs\n",
    "# Output tsv has consensus sequence and all info on what AB it is. "
   ]
  }
 ],
 "metadata": {
  "language_info": {
   "name": "python"
  }
 },
 "nbformat": 4,
 "nbformat_minor": 2
}
