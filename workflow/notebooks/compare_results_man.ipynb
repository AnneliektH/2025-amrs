{
 "cells": [
  {
   "cell_type": "markdown",
   "metadata": {},
   "source": [
    "#### Comparing sourmash and RGI differences\n",
    "12 things were found by RGI that werent found by smash, and 14 the other way. Need to check the validity\n",
    "- Make a smash db \n",
    "- Make read mapping db\n",
    "- read map to found by smash\n",
    "- fastgather to found by rgi\n",
    "\n",
    "Can use filterbyname from bbmap with substrigns enabled"
   ]
  },
  {
   "cell_type": "markdown",
   "metadata": {},
   "source": [
    "#### Should we use different read mappers to see what they think? \n",
    "- Minimap\n",
    "- Bowtie2\n",
    "- KMA\n",
    "All of these are used in a specific way in RGI bwt\n",
    "\n",
    "Use all of these, and see what they recover.. "
   ]
  },
  {
   "cell_type": "code",
   "execution_count": null,
   "metadata": {
    "vscode": {
     "languageId": "shellscript"
    }
   },
   "outputs": [],
   "source": [
    "# how much energy does something take:\n",
    "/usr/bin/time -v "
   ]
  },
  {
   "cell_type": "code",
   "execution_count": null,
   "metadata": {
    "vscode": {
     "languageId": "shellscript"
    }
   },
   "outputs": [],
   "source": [
    "# use filterby name by bbmap\n",
    "# allows for substring matching\n",
    "mamba activate bbmap\n",
    "filterbyname.sh \\\n",
    "in=../../resources/database/CARD/nucleotide_fasta_protein_homolog_model.fasta \\\n",
    "out=found_rgi.fa names=rgi.txt include=t substring=t"
   ]
  },
  {
   "cell_type": "code",
   "execution_count": null,
   "metadata": {
    "vscode": {
     "languageId": "shellscript"
    }
   },
   "outputs": [],
   "source": [
    "# sketch the rgi db and fmg against the raw reads that are sketched\n",
    "sourmash scripts fastgather \\\n",
    "../smash/signatures/SRR5240728.metag.zip \\\n",
    "rgi_found.zip \\\n",
    "-k 21 --scaled 100 -t 0 \\\n",
    "-c 30 -o SRR5240728.x.rgifound.csv"
   ]
  },
  {
   "cell_type": "code",
   "execution_count": null,
   "metadata": {
    "vscode": {
     "languageId": "shellscript"
    }
   },
   "outputs": [],
   "source": [
    "srun --account=ctbrowngrp -p med2 -J rgi -t 2:00:00 -c 30 --mem=50gb --pty bash\n",
    "\n",
    "# the rgi conda env has kma in it (SRR5240728)\n",
    "# index db\n",
    "kma index -i found_smash.fa -o smash_found_kma/smashdb\n",
    "\n",
    "# run kma\n",
    "kma -mem_mode -ex_mode -1t1 -vcf \\\n",
    "-ipe /group/ctbrowngrp2/scratch/annie/2023-swine-sra/results/atlas/atlas_SRR5240728/SRR5240728/sequence_quality_control/SRR5240728_QC_R*.fastq.gz \\\n",
    "-t 30 -t_db smash_found_kma/smashdb \\\n",
    "-o SRR5240728.x.smashfound.temp -sam\n",
    "\n"
   ]
  }
 ],
 "metadata": {
  "language_info": {
   "name": "python"
  }
 },
 "nbformat": 4,
 "nbformat_minor": 2
}
