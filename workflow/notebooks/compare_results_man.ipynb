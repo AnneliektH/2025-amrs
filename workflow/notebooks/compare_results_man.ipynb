{
 "cells": [
  {
   "cell_type": "code",
   "execution_count": null,
   "metadata": {
    "vscode": {
     "languageId": "shellscript"
    }
   },
   "outputs": [],
   "source": [
    "# how much energy does something take:\n",
    "/usr/bin/time -v "
   ]
  },
  {
   "cell_type": "markdown",
   "metadata": {},
   "source": [
    "## Manually comparing what each program found\n",
    "- skipmer vs kmer: Marginally better, may not be worth extra compute\n",
    "- Different mappers for RGI: no difference\n",
    "\n",
    "\n",
    "So for now, compare kmer to RGI. There are 11 things sourmash found, but not RGI and 15 things other way around. 72 are in common. Make db of these 98 sequences, and map reads or do a sourmash gather. \n",
    "\n",
    "\n",
    "After this, will need to extract the reads that map to refs smash or RGI cant find, and blast these."
   ]
  },
  {
   "cell_type": "code",
   "execution_count": null,
   "metadata": {
    "vscode": {
     "languageId": "shellscript"
    }
   },
   "outputs": [],
   "source": [
    "# use filterby name by bbmap\n",
    "# allows for substring matching\n",
    "mamba activate bbmap\n",
    "filterbyname.sh \\\n",
    "in=../../resources/database/CARD/nucleotide_fasta_protein_homolog_model.fasta \\\n",
    "out=found_seqs.fa names=found_seqs.txt include=t substring=t"
   ]
  },
  {
   "cell_type": "code",
   "execution_count": null,
   "metadata": {
    "vscode": {
     "languageId": "shellscript"
    }
   },
   "outputs": [],
   "source": [
    "# do smash part\n",
    "mamba activate branchwater-skipmer\n",
    "sourmash sketch dna \\\n",
    "found_seqs.fa \\\n",
    "--singleton -p k=21,scaled=100 \\\n",
    "-o found_seqs.smash.zip"
   ]
  },
  {
   "cell_type": "code",
   "execution_count": null,
   "metadata": {
    "vscode": {
     "languageId": "shellscript"
    }
   },
   "outputs": [],
   "source": [
    "# sketch the rgi db and fmg against the raw reads that are sketched\n",
    "sourmash scripts fastgather \\\n",
    "../smash/signatures/SRR5240728.metag.zip \\\n",
    "found_seqs.smash.zip \\\n",
    "-k 21 --scaled 100 -t 0 \\\n",
    "-c 30 -o SRR5240728.x.foundseqs.csv"
   ]
  },
  {
   "cell_type": "code",
   "execution_count": null,
   "metadata": {
    "vscode": {
     "languageId": "shellscript"
    }
   },
   "outputs": [],
   "source": [
    "# the rgi conda env has kma in it (SRR5240728)\n",
    "# index db\n",
    "kma index -i found_seqs.fa -o kmadb\n",
    "\n",
    "# run kma\n",
    "kma -mem_mode -ex_mode -1t1 -vcf \\\n",
    "-ipe /group/ctbrowngrp2/scratch/annie/2023-swine-sra/results/atlas/atlas_SRR5240728/SRR5240728/sequence_quality_control/SRR5240728_QC_R*.fastq.gz \\\n",
    "-t 30 -t_db kmadb \\\n",
    "-o SRR5240728.x.kmadb -sam\n",
    "\n"
   ]
  },
  {
   "cell_type": "code",
   "execution_count": null,
   "metadata": {
    "vscode": {
     "languageId": "shellscript"
    }
   },
   "outputs": [],
   "source": [
    "# Next step:\n",
    "# Extracting reads related to kmers\n",
    "# first need to extract fast we want to compare to\n",
    "filterbyname.sh in=../../resources/database/CARD/nucleotide_fasta_protein_homolog_model.fasta \\\n",
    "out=extract_reads/found1.fa names=foundbyone.txt include=t substring=t\n",
    "\n",
    "\n",
    "srun --account=ctbrowngrp -p bmm -J extractread -t 168:00:00 -c 1 --mem=50gb --pty bash\n",
    "\n",
    "# now we can match the kmers from the fq file to these sequences, and extract reads that match.\n",
    "mamba activate branchwater-skipmer\n",
    "sourmash sig kmers --signatures ../../smash/signatures/SRR5240728.metag.zip \\\n",
    "-k 21 --sequences found1.fa \\\n",
    "--save-sequences recovered_reads_7days.fasta --save-kmers kmer-matches_7day.csv"
   ]
  },
  {
   "cell_type": "code",
   "execution_count": null,
   "metadata": {
    "vscode": {
     "languageId": "shellscript"
    }
   },
   "outputs": [],
   "source": [
    "# Can use the kma consensus sequences too for blast\n"
   ]
  }
 ],
 "metadata": {
  "language_info": {
   "name": "python"
  }
 },
 "nbformat": 4,
 "nbformat_minor": 2
}
