{
 "cells": [
  {
   "cell_type": "markdown",
   "metadata": {},
   "source": [
    "## Comparing Sourmash to RGI for recovering resistance genes\n",
    "RGI is the current tool used for identifying antimicrobial resistance genes. Relies on read mapping and is mem intensive and slow. Can we get an equally ok result using sourmash instead? Would like for it to work at a scale of 100, or larger. \n",
    "\n",
    "For now, I am just comparing raw read rgi (rgi-bwt) to sourmash on the sketched raw reads. \n",
    "And using 5 metagenomes"
   ]
  },
  {
   "cell_type": "code",
   "execution_count": null,
   "metadata": {
    "vscode": {
     "languageId": "shellscript"
    }
   },
   "outputs": [],
   "source": [
    "#  symlink dbs to this directory (in resources)\n",
    "ln -s /home/amhorst/databases/CARD .\n",
    "ln -s /home/amhorst/databases/CARD_smash/ ."
   ]
  },
  {
   "cell_type": "code",
   "execution_count": null,
   "metadata": {
    "vscode": {
     "languageId": "shellscript"
    }
   },
   "outputs": [],
   "source": [
    "# RGI itself only uses the protein homolog model, not all others. Unless specified. \n",
    "# Make zip file with only homolog\n",
    "sourmash sketch dna \\\n",
    "nucleotide_fasta_protein_homolog_model.fasta \\\n",
    "--singleton -p k=18,k=21,k=31,k=51,scaled=100 \\\n",
    "-o ../CARD_smash/card_protein_homolog_model.nucleotide.zip"
   ]
  },
  {
   "cell_type": "code",
   "execution_count": null,
   "metadata": {
    "vscode": {
     "languageId": "shellscript"
    }
   },
   "outputs": [],
   "source": [
    "# concat all nucleotide card into one fasta file\n",
    "cat nucleotide_fasta*.fasta > nucleotide_card.fasta\n",
    "\n",
    "# sketch the CARD db into kmers (maybe later more ksizes)\n",
    "sourmash sketch dna \\\n",
    "nucleotide_card.fasta \\\n",
    "-p k=18,k=21,k=31,k=51,scaled=100 \\\n",
    "-o nucleotide_card.zip \\\n",
    "--singleton"
   ]
  },
  {
   "cell_type": "code",
   "execution_count": null,
   "metadata": {
    "vscode": {
     "languageId": "shellscript"
    }
   },
   "outputs": [],
   "source": [
    "# running RGI on the raw reads (in snakefile)\n",
    "# Think I need to load the db files in the folder where snakefile is\n",
    "# Can probs do it in snakefile (too lazy rn)\n",
    "# load the database and specify that it needs a local copy in current folder\n",
    "rgi load --card_json /home/amhorst/databases/CARD/card.json --local\n",
    "rgi card_annotation -i /home/amhorst/databases/CARD/card.json > card_annotation.log\n",
    "\n",
    "# load the json file, and specify where the card db is. \n",
    "rgi load -i /home/amhorst/databases/CARD/card.json --card_annotation card_database_v3.3.0.fasta --local"
   ]
  },
  {
   "cell_type": "code",
   "execution_count": null,
   "metadata": {
    "vscode": {
     "languageId": "shellscript"
    }
   },
   "outputs": [],
   "source": [
    "# try snakefile for 1\n",
    "srun --account=ctbrowngrp -p med2 -J rgi -t 2:00:00 -c 30 --mem=50gb --pty bash\n",
    "\n",
    "snakemake --use-conda --resources mem_mb=50000 --rerun-triggers mtime \\\n",
    "-c 30 --rerun-incomplete -k -n\n"
   ]
  }
 ],
 "metadata": {
  "language_info": {
   "name": "python"
  }
 },
 "nbformat": 4,
 "nbformat_minor": 2
}
